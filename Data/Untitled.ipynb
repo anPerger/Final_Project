{
 "cells": [
  {
   "cell_type": "code",
   "execution_count": 1,
   "metadata": {},
   "outputs": [],
   "source": [
    "from urllib.request import urlopen\n",
    "from json import loads\n",
    "import pandas as pd\n",
    "from itertools import chain\n",
    "from dask import bag\n",
    "import numpy as np\n",
    "import matplotlib.pyplot as plt\n",
    "%matplotlib inline"
   ]
  },
  {
   "cell_type": "code",
   "execution_count": 5,
   "metadata": {},
   "outputs": [
    {
     "data": {
      "text/html": [
       "<div>\n",
       "<style scoped>\n",
       "    .dataframe tbody tr th:only-of-type {\n",
       "        vertical-align: middle;\n",
       "    }\n",
       "\n",
       "    .dataframe tbody tr th {\n",
       "        vertical-align: top;\n",
       "    }\n",
       "\n",
       "    .dataframe thead th {\n",
       "        text-align: right;\n",
       "    }\n",
       "</style>\n",
       "<table border=\"1\" class=\"dataframe\">\n",
       "  <thead>\n",
       "    <tr style=\"text-align: right;\">\n",
       "      <th></th>\n",
       "      <th>Unnamed: 0</th>\n",
       "      <th>strDrink</th>\n",
       "      <th>dateModified</th>\n",
       "      <th>idDrink</th>\n",
       "      <th>strAlcoholic</th>\n",
       "      <th>strCategory</th>\n",
       "      <th>strDrinkThumb</th>\n",
       "      <th>strGlass</th>\n",
       "      <th>strIBA</th>\n",
       "      <th>strIngredient1</th>\n",
       "      <th>...</th>\n",
       "      <th>strMeasure15</th>\n",
       "      <th>strMeasure2</th>\n",
       "      <th>strMeasure3</th>\n",
       "      <th>strMeasure4</th>\n",
       "      <th>strMeasure5</th>\n",
       "      <th>strMeasure6</th>\n",
       "      <th>strMeasure7</th>\n",
       "      <th>strMeasure8</th>\n",
       "      <th>strMeasure9</th>\n",
       "      <th>strVideo</th>\n",
       "    </tr>\n",
       "  </thead>\n",
       "  <tbody>\n",
       "    <tr>\n",
       "      <th>442</th>\n",
       "      <td>442</td>\n",
       "      <td>Rum Screwdriver</td>\n",
       "      <td>2017-09-08 16:59:32</td>\n",
       "      <td>12091</td>\n",
       "      <td>Alcoholic</td>\n",
       "      <td>Ordinary Drink</td>\n",
       "      <td>http://www.thecocktaildb.com/images/media/drin...</td>\n",
       "      <td>Highball glass</td>\n",
       "      <td>NaN</td>\n",
       "      <td>Light rum</td>\n",
       "      <td>...</td>\n",
       "      <td>NaN</td>\n",
       "      <td>5 oz</td>\n",
       "      <td></td>\n",
       "      <td></td>\n",
       "      <td></td>\n",
       "      <td></td>\n",
       "      <td></td>\n",
       "      <td>NaN</td>\n",
       "      <td>NaN</td>\n",
       "      <td>NaN</td>\n",
       "    </tr>\n",
       "    <tr>\n",
       "      <th>167</th>\n",
       "      <td>167</td>\n",
       "      <td>Brandy Alexander</td>\n",
       "      <td>2017-01-02 20:09:06</td>\n",
       "      <td>11016</td>\n",
       "      <td>Alcoholic</td>\n",
       "      <td>Ordinary Drink</td>\n",
       "      <td>http://www.thecocktaildb.com/images/media/drin...</td>\n",
       "      <td>Cocktail glass</td>\n",
       "      <td>NaN</td>\n",
       "      <td>Brandy</td>\n",
       "      <td>...</td>\n",
       "      <td>NaN</td>\n",
       "      <td>1 oz white</td>\n",
       "      <td>1 oz</td>\n",
       "      <td>\\n</td>\n",
       "      <td>\\n</td>\n",
       "      <td>\\n</td>\n",
       "      <td>\\n</td>\n",
       "      <td>\\n</td>\n",
       "      <td>\\n</td>\n",
       "      <td>NaN</td>\n",
       "    </tr>\n",
       "    <tr>\n",
       "      <th>411</th>\n",
       "      <td>411</td>\n",
       "      <td>Poppy Cocktail</td>\n",
       "      <td>2017-09-02 23:05:15</td>\n",
       "      <td>11959</td>\n",
       "      <td>Alcoholic</td>\n",
       "      <td>Ordinary Drink</td>\n",
       "      <td>http://www.thecocktaildb.com/images/media/drin...</td>\n",
       "      <td>Cocktail glass</td>\n",
       "      <td>NaN</td>\n",
       "      <td>Gin</td>\n",
       "      <td>...</td>\n",
       "      <td>NaN</td>\n",
       "      <td>3/4 oz white</td>\n",
       "      <td></td>\n",
       "      <td></td>\n",
       "      <td></td>\n",
       "      <td></td>\n",
       "      <td></td>\n",
       "      <td>NaN</td>\n",
       "      <td>NaN</td>\n",
       "      <td>NaN</td>\n",
       "    </tr>\n",
       "  </tbody>\n",
       "</table>\n",
       "<p>3 rows × 41 columns</p>\n",
       "</div>"
      ],
      "text/plain": [
       "     Unnamed: 0          strDrink         dateModified  idDrink strAlcoholic  \\\n",
       "442         442   Rum Screwdriver  2017-09-08 16:59:32    12091    Alcoholic   \n",
       "167         167  Brandy Alexander  2017-01-02 20:09:06    11016    Alcoholic   \n",
       "411         411    Poppy Cocktail  2017-09-02 23:05:15    11959    Alcoholic   \n",
       "\n",
       "        strCategory                                      strDrinkThumb  \\\n",
       "442  Ordinary Drink  http://www.thecocktaildb.com/images/media/drin...   \n",
       "167  Ordinary Drink  http://www.thecocktaildb.com/images/media/drin...   \n",
       "411  Ordinary Drink  http://www.thecocktaildb.com/images/media/drin...   \n",
       "\n",
       "           strGlass strIBA strIngredient1  ... strMeasure15    strMeasure2  \\\n",
       "442  Highball glass    NaN      Light rum  ...          NaN          5 oz    \n",
       "167  Cocktail glass    NaN         Brandy  ...          NaN    1 oz white    \n",
       "411  Cocktail glass    NaN            Gin  ...          NaN  3/4 oz white    \n",
       "\n",
       "    strMeasure3  strMeasure4  strMeasure5  strMeasure6 strMeasure7  \\\n",
       "442                                                                  \n",
       "167       1 oz            \\n           \\n           \\n          \\n   \n",
       "411                                                                  \n",
       "\n",
       "    strMeasure8 strMeasure9 strVideo  \n",
       "442         NaN         NaN      NaN  \n",
       "167          \\n          \\n      NaN  \n",
       "411         NaN         NaN      NaN  \n",
       "\n",
       "[3 rows x 41 columns]"
      ]
     },
     "execution_count": 5,
     "metadata": {},
     "output_type": "execute_result"
    }
   ],
   "source": [
    "drink_df = pd.read_csv('../Data/all_drinks.csv')\n",
    "drink_df.sample(3)"
   ]
  },
  {
   "cell_type": "code",
   "execution_count": 6,
   "metadata": {},
   "outputs": [],
   "source": [
    "from sklearn.feature_extraction.text import CountVectorizer\n",
    "cv = CountVectorizer(analyzer = 'char_wb')\n",
    "cv.fit(drink_df['strDrink'].values)\n",
    "new_vocab_dict = {id: word for word,id in cv.vocabulary_.items()}"
   ]
  },
  {
   "cell_type": "code",
   "execution_count": 7,
   "metadata": {},
   "outputs": [],
   "source": [
    "cv_mat = cv.transform(drink_df['strDrink'].values)"
   ]
  },
  {
   "cell_type": "code",
   "execution_count": 8,
   "metadata": {},
   "outputs": [
    {
     "name": "stderr",
     "output_type": "stream",
     "text": [
      "Using TensorFlow backend.\n"
     ]
    }
   ],
   "source": [
    "from keras.preprocessing.text import Tokenizer\n",
    "from keras.preprocessing.sequence import pad_sequences"
   ]
  },
  {
   "cell_type": "code",
   "execution_count": 9,
   "metadata": {},
   "outputs": [
    {
     "name": "stdout",
     "output_type": "stream",
     "text": [
      "Found 47 unique tokens.\n"
     ]
    }
   ],
   "source": [
    "str_vec = drink_df['strDrink'].str.lower()\n",
    "MAX_NB_WORDS, MAX_SEQUENCE_LENGTH = 5000, 30\n",
    "tokenizer = Tokenizer(num_words=MAX_NB_WORDS, char_level=True)\n",
    "tokenizer.fit_on_texts(str_vec)\n",
    "train_sequences = tokenizer.texts_to_sequences(str_vec)\n",
    "train_data = pad_sequences(train_sequences, maxlen=MAX_SEQUENCE_LENGTH)\n",
    "word_index = tokenizer.word_index\n",
    "print('Found %s unique tokens.' % len(word_index))"
   ]
  },
  {
   "cell_type": "code",
   "execution_count": 10,
   "metadata": {},
   "outputs": [
    {
     "data": {
      "text/plain": [
       "<matplotlib.image.AxesImage at 0x2ab1eeb3080>"
      ]
     },
     "execution_count": 10,
     "metadata": {},
     "output_type": "execute_result"
    },
    {
     "data": {
      "image/png": "[encoded data removed]",
      "text/plain": [
       "<Figure size 288x1152 with 1 Axes>"
      ]
     },
     "metadata": {
      "needs_background": "light"
     },
     "output_type": "display_data"
    }
   ],
   "source": [
    "plt.matshow(train_data)"
   ]
  },
  {
   "cell_type": "code",
   "execution_count": 11,
   "metadata": {},
   "outputs": [
    {
     "data": {
      "text/plain": [
       "0                              [creme de cacao, vodka]\n",
       "1    [absolut kurant, grand marnier, chambord raspb...\n",
       "2                                     [lager, tequila]\n",
       "dtype: object"
      ]
     },
     "execution_count": 11,
     "metadata": {},
     "output_type": "execute_result"
    }
   ],
   "source": [
    "def isempty(x):\n",
    "    try:\n",
    "        if x is None: \n",
    "            return True\n",
    "        elif len(x)<1:\n",
    "            return True\n",
    "        else:\n",
    "            return False\n",
    "    except:\n",
    "        # floating point nans\n",
    "        return True\n",
    "all_ingred = drink_df[[x for x in drink_df.columns \n",
    "                       if 'Ingredient' in x]].apply(lambda c_row: [v.lower() for k,v in c_row.items() if not isempty(v)],1)\n",
    "all_ingred[0:3]"
   ]
  },
  {
   "cell_type": "code",
   "execution_count": 12,
   "metadata": {},
   "outputs": [
    {
     "name": "stdout",
     "output_type": "stream",
     "text": [
      "Found 308 unique ingredients,  ['151 proof rum' '7-up' 'absinthe']\n"
     ]
    }
   ],
   "source": [
    "from sklearn.preprocessing import LabelEncoder\n",
    "from keras.utils.np_utils import to_categorical\n",
    "ingred_label = LabelEncoder()\n",
    "ingred_label.fit(list(chain(*all_ingred.values)))\n",
    "print('Found', len(ingred_label.classes_), 'unique ingredients, ', ingred_label.classes_[0:3])"
   ]
  },
  {
   "cell_type": "code",
   "execution_count": 13,
   "metadata": {},
   "outputs": [
    {
     "data": {
      "text/plain": [
       "<matplotlib.image.AxesImage at 0x2ab1f1c8e10>"
      ]
     },
     "execution_count": 13,
     "metadata": {},
     "output_type": "execute_result"
    },
    {
     "data": {
      "image/png": "[encoded data removed]",
      "text/plain": [
       "<Figure size 288x510.545 with 1 Axes>"
      ]
     },
     "metadata": {
      "needs_background": "light"
     },
     "output_type": "display_data"
    }
   ],
   "source": [
    "y_vec = np.stack(all_ingred.map(lambda x: np.sum(to_categorical(ingred_label.transform(x), \n",
    "                                        num_classes=len(ingred_label.classes_)),0)),0).clip(0,1)\n",
    "plt.matshow(y_vec)"
   ]
  },
  {
   "cell_type": "code",
   "execution_count": 14,
   "metadata": {},
   "outputs": [
    {
     "name": "stdout",
     "output_type": "stream",
     "text": [
      "Mean Error 2.37%\n"
     ]
    }
   ],
   "source": [
    "from sklearn.metrics import mean_absolute_error\n",
    "from sklearn.model_selection import train_test_split\n",
    "train_idx, test_idx = train_test_split(range(y_vec.shape[0]), \n",
    "                                                    random_state = 12345,\n",
    "                                                   train_size = 0.7)\n",
    "from sklearn.ensemble import RandomForestRegressor\n",
    "rf = RandomForestRegressor()\n",
    "rf.fit(cv_mat[train_idx], y_vec[train_idx])\n",
    "pred_vec = rf.predict(cv_mat[test_idx])\n",
    "\n",
    "print('Mean Error %2.2f%%' % (100*mean_absolute_error(y_vec[test_idx], pred_vec)))"
   ]
  },
  {
   "cell_type": "code",
   "execution_count": 59,
   "metadata": {},
   "outputs": [
    {
     "ename": "TypeError",
     "evalue": "'numpy.ndarray' object is not callable",
     "output_type": "error",
     "traceback": [
      "\u001b[1;31m---------------------------------------------------------------------------\u001b[0m",
      "\u001b[1;31mTypeError\u001b[0m                                 Traceback (most recent call last)",
      "\u001b[1;32m<ipython-input-59-be14020c3e3d>\u001b[0m in \u001b[0;36m<module>\u001b[1;34m\u001b[0m\n\u001b[1;32m----> 1\u001b[1;33m \u001b[0mpred_vec\u001b[0m\u001b[1;33m(\u001b[0m\u001b[1;34m'test'\u001b[0m\u001b[1;33m)\u001b[0m\u001b[1;33m\u001b[0m\u001b[1;33m\u001b[0m\u001b[0m\n\u001b[0m",
      "\u001b[1;31mTypeError\u001b[0m: 'numpy.ndarray' object is not callable"
     ]
    }
   ],
   "source": [
    "pred_vec('test')"
   ]
  }
 ],
 "metadata": {
  "kernelspec": {
   "display_name": "Python 3",
   "language": "python",
   "name": "python3"
  },
  "language_info": {
   "codemirror_mode": {
    "name": "ipython",
    "version": 3
   },
   "file_extension": ".py",
   "mimetype": "text/x-python",
   "name": "python",
   "nbconvert_exporter": "python",
   "pygments_lexer": "ipython3",
   "version": "3.6.12"
  }
 },
 "nbformat": 4,
 "nbformat_minor": 4
}
