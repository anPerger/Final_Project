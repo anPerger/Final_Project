{
 "cells": [
  {
   "cell_type": "code",
   "execution_count": 1,
   "metadata": {},
   "outputs": [],
   "source": [
    "# dependencies\n",
    "from sklearn import tree\n",
    "import pandas as pd\n",
    "import numpy as np\n",
    "import os"
   ]
  },
  {
   "cell_type": "code",
   "execution_count": 2,
   "metadata": {},
   "outputs": [
    {
     "data": {
      "text/html": [
       "<div>\n",
       "<style scoped>\n",
       "    .dataframe tbody tr th:only-of-type {\n",
       "        vertical-align: middle;\n",
       "    }\n",
       "\n",
       "    .dataframe tbody tr th {\n",
       "        vertical-align: top;\n",
       "    }\n",
       "\n",
       "    .dataframe thead th {\n",
       "        text-align: right;\n",
       "    }\n",
       "</style>\n",
       "<table border=\"1\" class=\"dataframe\">\n",
       "  <thead>\n",
       "    <tr style=\"text-align: right;\">\n",
       "      <th></th>\n",
       "      <th>Unnamed: 0</th>\n",
       "      <th>country</th>\n",
       "      <th>price</th>\n",
       "      <th>province</th>\n",
       "      <th>variety</th>\n",
       "      <th>winery</th>\n",
       "      <th>vintage</th>\n",
       "      <th>quality</th>\n",
       "    </tr>\n",
       "  </thead>\n",
       "  <tbody>\n",
       "    <tr>\n",
       "      <th>76933</th>\n",
       "      <td>85713</td>\n",
       "      <td>France</td>\n",
       "      <td>40.0</td>\n",
       "      <td>Southwest France</td>\n",
       "      <td>Bordeaux-style Red Blend</td>\n",
       "      <td>Domaine l'Ancienne Cure</td>\n",
       "      <td>2009</td>\n",
       "      <td>Good</td>\n",
       "    </tr>\n",
       "    <tr>\n",
       "      <th>26831</th>\n",
       "      <td>29945</td>\n",
       "      <td>US</td>\n",
       "      <td>40.0</td>\n",
       "      <td>California</td>\n",
       "      <td>Cabernet Sauvignon</td>\n",
       "      <td>Cenay</td>\n",
       "      <td>2012</td>\n",
       "      <td>Good</td>\n",
       "    </tr>\n",
       "    <tr>\n",
       "      <th>62473</th>\n",
       "      <td>69676</td>\n",
       "      <td>France</td>\n",
       "      <td>10.0</td>\n",
       "      <td>Southwest France</td>\n",
       "      <td>Bordeaux-style Red Blend</td>\n",
       "      <td>Domaine de Ménard</td>\n",
       "      <td>2015</td>\n",
       "      <td>Poor</td>\n",
       "    </tr>\n",
       "    <tr>\n",
       "      <th>83402</th>\n",
       "      <td>92917</td>\n",
       "      <td>Spain</td>\n",
       "      <td>20.0</td>\n",
       "      <td>Northern Spain</td>\n",
       "      <td>Tempranillo</td>\n",
       "      <td>Tamaral</td>\n",
       "      <td>2013</td>\n",
       "      <td>Good</td>\n",
       "    </tr>\n",
       "    <tr>\n",
       "      <th>58980</th>\n",
       "      <td>65811</td>\n",
       "      <td>Portugal</td>\n",
       "      <td>18.0</td>\n",
       "      <td>Alentejano</td>\n",
       "      <td>Portuguese Red</td>\n",
       "      <td>Herdade de São Miguel</td>\n",
       "      <td>2013</td>\n",
       "      <td>Good</td>\n",
       "    </tr>\n",
       "    <tr>\n",
       "      <th>60233</th>\n",
       "      <td>67194</td>\n",
       "      <td>France</td>\n",
       "      <td>28.0</td>\n",
       "      <td>Loire Valley</td>\n",
       "      <td>Chenin Blanc</td>\n",
       "      <td>Domaine des Baumard</td>\n",
       "      <td>2013</td>\n",
       "      <td>Good</td>\n",
       "    </tr>\n",
       "    <tr>\n",
       "      <th>42564</th>\n",
       "      <td>47531</td>\n",
       "      <td>France</td>\n",
       "      <td>17.0</td>\n",
       "      <td>Alsace</td>\n",
       "      <td>Pinot Gris</td>\n",
       "      <td>Jean-Marc Bernhard</td>\n",
       "      <td>2016</td>\n",
       "      <td>Good</td>\n",
       "    </tr>\n",
       "    <tr>\n",
       "      <th>95105</th>\n",
       "      <td>105888</td>\n",
       "      <td>South Africa</td>\n",
       "      <td>12.0</td>\n",
       "      <td>Stellenbosch</td>\n",
       "      <td>Chenin Blanc</td>\n",
       "      <td>Winery of Good Hope</td>\n",
       "      <td>2011</td>\n",
       "      <td>Poor</td>\n",
       "    </tr>\n",
       "    <tr>\n",
       "      <th>5810</th>\n",
       "      <td>6462</td>\n",
       "      <td>US</td>\n",
       "      <td>20.0</td>\n",
       "      <td>Washington</td>\n",
       "      <td>Rosé</td>\n",
       "      <td>Efeste</td>\n",
       "      <td>2011</td>\n",
       "      <td>Good</td>\n",
       "    </tr>\n",
       "    <tr>\n",
       "      <th>86134</th>\n",
       "      <td>95957</td>\n",
       "      <td>Austria</td>\n",
       "      <td>40.0</td>\n",
       "      <td>Burgenland</td>\n",
       "      <td>Blaufränkisch</td>\n",
       "      <td>Wohlmuth</td>\n",
       "      <td>2011</td>\n",
       "      <td>Good</td>\n",
       "    </tr>\n",
       "  </tbody>\n",
       "</table>\n",
       "</div>"
      ],
      "text/plain": [
       "       Unnamed: 0       country  price          province  \\\n",
       "76933       85713        France   40.0  Southwest France   \n",
       "26831       29945            US   40.0        California   \n",
       "62473       69676        France   10.0  Southwest France   \n",
       "83402       92917         Spain   20.0    Northern Spain   \n",
       "58980       65811      Portugal   18.0        Alentejano   \n",
       "60233       67194        France   28.0      Loire Valley   \n",
       "42564       47531        France   17.0            Alsace   \n",
       "95105      105888  South Africa   12.0      Stellenbosch   \n",
       "5810         6462            US   20.0        Washington   \n",
       "86134       95957       Austria   40.0        Burgenland   \n",
       "\n",
       "                        variety                   winery  vintage quality  \n",
       "76933  Bordeaux-style Red Blend  Domaine l'Ancienne Cure     2009    Good  \n",
       "26831        Cabernet Sauvignon                    Cenay     2012    Good  \n",
       "62473  Bordeaux-style Red Blend        Domaine de Ménard     2015    Poor  \n",
       "83402               Tempranillo                  Tamaral     2013    Good  \n",
       "58980            Portuguese Red    Herdade de São Miguel     2013    Good  \n",
       "60233              Chenin Blanc      Domaine des Baumard     2013    Good  \n",
       "42564                Pinot Gris       Jean-Marc Bernhard     2016    Good  \n",
       "95105              Chenin Blanc      Winery of Good Hope     2011    Poor  \n",
       "5810                       Rosé                   Efeste     2011    Good  \n",
       "86134             Blaufränkisch                 Wohlmuth     2011    Good  "
      ]
     },
     "execution_count": 2,
     "metadata": {},
     "output_type": "execute_result"
    }
   ],
   "source": [
    "# read in CSV\n",
    "clean_wines = pd.read_csv('Data/recommend_neural_model_df.csv')\n",
    "\n",
    "# sample\n",
    "clean_wines.sample(10)"
   ]
  },
  {
   "cell_type": "code",
   "execution_count": 3,
   "metadata": {
    "scrolled": true
   },
   "outputs": [
    {
     "name": "stderr",
     "output_type": "stream",
     "text": [
      "C:\\Users\\Rahil\\anaconda3\\lib\\site-packages\\ipykernel_launcher.py:10: SettingWithCopyWarning: \n",
      "A value is trying to be set on a copy of a slice from a DataFrame.\n",
      "Try using .loc[row_indexer,col_indexer] = value instead\n",
      "\n",
      "See the caveats in the documentation: https://pandas.pydata.org/pandas-docs/stable/user_guide/indexing.html#returning-a-view-versus-a-copy\n",
      "  # Remove the CWD from sys.path while we load stuff.\n",
      "C:\\Users\\Rahil\\anaconda3\\lib\\site-packages\\ipykernel_launcher.py:11: SettingWithCopyWarning: \n",
      "A value is trying to be set on a copy of a slice from a DataFrame.\n",
      "Try using .loc[row_indexer,col_indexer] = value instead\n",
      "\n",
      "See the caveats in the documentation: https://pandas.pydata.org/pandas-docs/stable/user_guide/indexing.html#returning-a-view-versus-a-copy\n",
      "  # This is added back by InteractiveShellApp.init_path()\n",
      "C:\\Users\\Rahil\\anaconda3\\lib\\site-packages\\ipykernel_launcher.py:12: SettingWithCopyWarning: \n",
      "A value is trying to be set on a copy of a slice from a DataFrame.\n",
      "Try using .loc[row_indexer,col_indexer] = value instead\n",
      "\n",
      "See the caveats in the documentation: https://pandas.pydata.org/pandas-docs/stable/user_guide/indexing.html#returning-a-view-versus-a-copy\n",
      "  if sys.path[0] == '':\n",
      "C:\\Users\\Rahil\\anaconda3\\lib\\site-packages\\ipykernel_launcher.py:13: SettingWithCopyWarning: \n",
      "A value is trying to be set on a copy of a slice from a DataFrame.\n",
      "Try using .loc[row_indexer,col_indexer] = value instead\n",
      "\n",
      "See the caveats in the documentation: https://pandas.pydata.org/pandas-docs/stable/user_guide/indexing.html#returning-a-view-versus-a-copy\n",
      "  del sys.path[0]\n"
     ]
    },
    {
     "data": {
      "text/html": [
       "<div>\n",
       "<style scoped>\n",
       "    .dataframe tbody tr th:only-of-type {\n",
       "        vertical-align: middle;\n",
       "    }\n",
       "\n",
       "    .dataframe tbody tr th {\n",
       "        vertical-align: top;\n",
       "    }\n",
       "\n",
       "    .dataframe thead th {\n",
       "        text-align: right;\n",
       "    }\n",
       "</style>\n",
       "<table border=\"1\" class=\"dataframe\">\n",
       "  <thead>\n",
       "    <tr style=\"text-align: right;\">\n",
       "      <th></th>\n",
       "      <th>country</th>\n",
       "      <th>price</th>\n",
       "      <th>province</th>\n",
       "      <th>variety</th>\n",
       "      <th>winery</th>\n",
       "      <th>vintage</th>\n",
       "    </tr>\n",
       "  </thead>\n",
       "  <tbody>\n",
       "    <tr>\n",
       "      <th>0</th>\n",
       "      <td>30</td>\n",
       "      <td>15.0</td>\n",
       "      <td>106</td>\n",
       "      <td>433</td>\n",
       "      <td>11884</td>\n",
       "      <td>2011</td>\n",
       "    </tr>\n",
       "    <tr>\n",
       "      <th>1</th>\n",
       "      <td>39</td>\n",
       "      <td>14.0</td>\n",
       "      <td>261</td>\n",
       "      <td>420</td>\n",
       "      <td>11943</td>\n",
       "      <td>2013</td>\n",
       "    </tr>\n",
       "    <tr>\n",
       "      <th>2</th>\n",
       "      <td>39</td>\n",
       "      <td>13.0</td>\n",
       "      <td>212</td>\n",
       "      <td>462</td>\n",
       "      <td>13231</td>\n",
       "      <td>2013</td>\n",
       "    </tr>\n",
       "    <tr>\n",
       "      <th>3</th>\n",
       "      <td>39</td>\n",
       "      <td>65.0</td>\n",
       "      <td>261</td>\n",
       "      <td>423</td>\n",
       "      <td>13451</td>\n",
       "      <td>2012</td>\n",
       "    </tr>\n",
       "    <tr>\n",
       "      <th>4</th>\n",
       "      <td>36</td>\n",
       "      <td>15.0</td>\n",
       "      <td>255</td>\n",
       "      <td>569</td>\n",
       "      <td>13530</td>\n",
       "      <td>2011</td>\n",
       "    </tr>\n",
       "  </tbody>\n",
       "</table>\n",
       "</div>"
      ],
      "text/plain": [
       "   country  price  province  variety  winery  vintage\n",
       "0       30   15.0       106      433   11884     2011\n",
       "1       39   14.0       261      420   11943     2013\n",
       "2       39   13.0       212      462   13231     2013\n",
       "3       39   65.0       261      423   13451     2012\n",
       "4       36   15.0       255      569   13530     2011"
      ]
     },
     "execution_count": 3,
     "metadata": {},
     "output_type": "execute_result"
    }
   ],
   "source": [
    "# LabelEncoder dependency\n",
    "from sklearn.preprocessing import LabelEncoder\n",
    "number = LabelEncoder()\n",
    "\n",
    "# create target/features\n",
    "target = clean_wines['quality']\n",
    "target_names = ['Good', 'Poor']\n",
    "\n",
    "data = clean_wines[['country','price','province','variety','winery','vintage']]\n",
    "data['country'] = number.fit_transform(data['country'].astype('str'))\n",
    "data['province'] = number.fit_transform(data['province'].astype('str'))\n",
    "data['variety'] = number.fit_transform(data['variety'].astype('str'))\n",
    "data['winery'] = number.fit_transform(data['winery'].astype('str'))\n",
    "\n",
    "feature_names = data.columns\n",
    "\n",
    "data.head()"
   ]
  },
  {
   "cell_type": "code",
   "execution_count": 4,
   "metadata": {},
   "outputs": [],
   "source": [
    "from sklearn.model_selection import train_test_split\n",
    "X_train, X_test, y_train, y_test = train_test_split(data, target, random_state=42)"
   ]
  },
  {
   "cell_type": "code",
   "execution_count": 5,
   "metadata": {},
   "outputs": [
    {
     "data": {
      "text/plain": [
       "0.7371467717074841"
      ]
     },
     "execution_count": 5,
     "metadata": {},
     "output_type": "execute_result"
    }
   ],
   "source": [
    "clf = tree.DecisionTreeClassifier()\n",
    "clf = clf.fit(X_train, y_train)\n",
    "clf.score(X_test, y_test)"
   ]
  },
  {
   "cell_type": "code",
   "execution_count": 6,
   "metadata": {},
   "outputs": [
    {
     "data": {
      "text/plain": [
       "0.7812296626134612"
      ]
     },
     "execution_count": 6,
     "metadata": {},
     "output_type": "execute_result"
    }
   ],
   "source": [
    "from sklearn.ensemble import RandomForestClassifier\n",
    "rf = RandomForestClassifier(n_estimators=1000)\n",
    "rf = rf.fit(X_train, y_train)\n",
    "rf.score(X_test, y_test)"
   ]
  },
  {
   "cell_type": "code",
   "execution_count": 7,
   "metadata": {},
   "outputs": [],
   "source": [
    "# # Import tools needed for visualization\n",
    "# from sklearn.tree import export_graphviz\n",
    "# import pydot\n",
    "\n",
    "# # Pull out one tree from the forest\n",
    "# tree = rf.estimators_[5]\n",
    "\n",
    "# # Export the image to a dot file\n",
    "# export_graphviz(tree, out_file = './Data/tree.dot', feature_names = feature_names, rounded = True, precision = 1)"
   ]
  },
  {
   "cell_type": "code",
   "execution_count": 8,
   "metadata": {
    "scrolled": true
   },
   "outputs": [],
   "source": [
    "# # Convert dot file to png\n",
    "# (graph,) = pydot.graph_from_dot_file('./Data/tree.dot')\n",
    "# graph.write_png('tree.png')"
   ]
  },
  {
   "cell_type": "code",
   "execution_count": 9,
   "metadata": {
    "scrolled": true
   },
   "outputs": [],
   "source": [
    "# create export of features dataframe\n",
    "feature_importance_df = pd.DataFrame(sorted(zip(feature_names, rf.feature_importances_), reverse=True), \\\n",
    "                                     columns = ['feature_names', 'feature_importance'])\n",
    "feature_importance_df = feature_importance_df.sort_values(by='feature_importance', ascending=False).reset_index(drop=True)\n",
    "feature_importance_df.to_csv('Data/feature_importance_random_forest_df.csv')"
   ]
  }
 ],
 "metadata": {
  "kernelspec": {
   "display_name": "Python 3",
   "language": "python",
   "name": "python3"
  },
  "language_info": {
   "codemirror_mode": {
    "name": "ipython",
    "version": 3
   },
   "file_extension": ".py",
   "mimetype": "text/x-python",
   "name": "python",
   "nbconvert_exporter": "python",
   "pygments_lexer": "ipython3",
   "version": "3.6.10"
  }
 },
 "nbformat": 4,
 "nbformat_minor": 4
}
