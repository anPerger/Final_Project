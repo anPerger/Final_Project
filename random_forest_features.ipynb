{
 "cells": [
  {
   "cell_type": "code",
   "execution_count": 1,
   "metadata": {},
   "outputs": [],
   "source": [
    "# dependencies\n",
    "from sklearn import tree\n",
    "import pandas as pd\n",
    "import numpy as np\n",
    "import os"
   ]
  },
  {
   "cell_type": "code",
   "execution_count": 2,
   "metadata": {},
   "outputs": [
    {
     "data": {
      "text/html": [
       "<div>\n",
       "<style scoped>\n",
       "    .dataframe tbody tr th:only-of-type {\n",
       "        vertical-align: middle;\n",
       "    }\n",
       "\n",
       "    .dataframe tbody tr th {\n",
       "        vertical-align: top;\n",
       "    }\n",
       "\n",
       "    .dataframe thead th {\n",
       "        text-align: right;\n",
       "    }\n",
       "</style>\n",
       "<table border=\"1\" class=\"dataframe\">\n",
       "  <thead>\n",
       "    <tr style=\"text-align: right;\">\n",
       "      <th></th>\n",
       "      <th>Unnamed: 0</th>\n",
       "      <th>country</th>\n",
       "      <th>price</th>\n",
       "      <th>province</th>\n",
       "      <th>variety</th>\n",
       "      <th>winery</th>\n",
       "      <th>vintage</th>\n",
       "      <th>quality</th>\n",
       "    </tr>\n",
       "  </thead>\n",
       "  <tbody>\n",
       "    <tr>\n",
       "      <th>40218</th>\n",
       "      <td>44960</td>\n",
       "      <td>Argentina</td>\n",
       "      <td>11.0</td>\n",
       "      <td>Mendoza Province</td>\n",
       "      <td>Merlot</td>\n",
       "      <td>Andeluna</td>\n",
       "      <td>2010</td>\n",
       "      <td>Poor</td>\n",
       "    </tr>\n",
       "    <tr>\n",
       "      <th>103481</th>\n",
       "      <td>115301</td>\n",
       "      <td>Chile</td>\n",
       "      <td>12.0</td>\n",
       "      <td>Curicó Valley</td>\n",
       "      <td>Cabernet Sauvignon</td>\n",
       "      <td>Flying Angels</td>\n",
       "      <td>2007</td>\n",
       "      <td>Good</td>\n",
       "    </tr>\n",
       "    <tr>\n",
       "      <th>43139</th>\n",
       "      <td>48170</td>\n",
       "      <td>Italy</td>\n",
       "      <td>50.0</td>\n",
       "      <td>Southern Italy</td>\n",
       "      <td>Pallagrello Nero</td>\n",
       "      <td>Alois</td>\n",
       "      <td>2011</td>\n",
       "      <td>Good</td>\n",
       "    </tr>\n",
       "    <tr>\n",
       "      <th>25826</th>\n",
       "      <td>28856</td>\n",
       "      <td>France</td>\n",
       "      <td>17.0</td>\n",
       "      <td>Bordeaux</td>\n",
       "      <td>Bordeaux-style Red Blend</td>\n",
       "      <td>Château de Virecourt</td>\n",
       "      <td>2014</td>\n",
       "      <td>Poor</td>\n",
       "    </tr>\n",
       "    <tr>\n",
       "      <th>38119</th>\n",
       "      <td>42574</td>\n",
       "      <td>US</td>\n",
       "      <td>20.0</td>\n",
       "      <td>California</td>\n",
       "      <td>Cabernet Sauvignon</td>\n",
       "      <td>Olema</td>\n",
       "      <td>2009</td>\n",
       "      <td>Poor</td>\n",
       "    </tr>\n",
       "    <tr>\n",
       "      <th>24972</th>\n",
       "      <td>27930</td>\n",
       "      <td>Spain</td>\n",
       "      <td>10.0</td>\n",
       "      <td>Galicia</td>\n",
       "      <td>Albariño</td>\n",
       "      <td>Pazo Serantellos</td>\n",
       "      <td>2010</td>\n",
       "      <td>Poor</td>\n",
       "    </tr>\n",
       "    <tr>\n",
       "      <th>85753</th>\n",
       "      <td>95526</td>\n",
       "      <td>France</td>\n",
       "      <td>29.0</td>\n",
       "      <td>Languedoc-Roussillon</td>\n",
       "      <td>Rhône-style Red Blend</td>\n",
       "      <td>M. Chapoutier</td>\n",
       "      <td>2010</td>\n",
       "      <td>Good</td>\n",
       "    </tr>\n",
       "    <tr>\n",
       "      <th>116682</th>\n",
       "      <td>129871</td>\n",
       "      <td>France</td>\n",
       "      <td>13.0</td>\n",
       "      <td>Alsace</td>\n",
       "      <td>Riesling</td>\n",
       "      <td>Boeckel</td>\n",
       "      <td>2015</td>\n",
       "      <td>Good</td>\n",
       "    </tr>\n",
       "    <tr>\n",
       "      <th>53184</th>\n",
       "      <td>59302</td>\n",
       "      <td>France</td>\n",
       "      <td>230.0</td>\n",
       "      <td>Burgundy</td>\n",
       "      <td>Pinot Noir</td>\n",
       "      <td>Domaines Devillard</td>\n",
       "      <td>2011</td>\n",
       "      <td>Good</td>\n",
       "    </tr>\n",
       "    <tr>\n",
       "      <th>12846</th>\n",
       "      <td>14348</td>\n",
       "      <td>US</td>\n",
       "      <td>95.0</td>\n",
       "      <td>California</td>\n",
       "      <td>Cabernet Sauvignon</td>\n",
       "      <td>David Arthur</td>\n",
       "      <td>2006</td>\n",
       "      <td>Good</td>\n",
       "    </tr>\n",
       "  </tbody>\n",
       "</table>\n",
       "</div>"
      ],
      "text/plain": [
       "        Unnamed: 0    country  price              province  \\\n",
       "40218        44960  Argentina   11.0      Mendoza Province   \n",
       "103481      115301      Chile   12.0         Curicó Valley   \n",
       "43139        48170      Italy   50.0        Southern Italy   \n",
       "25826        28856     France   17.0              Bordeaux   \n",
       "38119        42574         US   20.0            California   \n",
       "24972        27930      Spain   10.0               Galicia   \n",
       "85753        95526     France   29.0  Languedoc-Roussillon   \n",
       "116682      129871     France   13.0                Alsace   \n",
       "53184        59302     France  230.0              Burgundy   \n",
       "12846        14348         US   95.0            California   \n",
       "\n",
       "                         variety                winery  vintage quality  \n",
       "40218                     Merlot              Andeluna     2010    Poor  \n",
       "103481        Cabernet Sauvignon         Flying Angels     2007    Good  \n",
       "43139           Pallagrello Nero                 Alois     2011    Good  \n",
       "25826   Bordeaux-style Red Blend  Château de Virecourt     2014    Poor  \n",
       "38119         Cabernet Sauvignon                 Olema     2009    Poor  \n",
       "24972                   Albariño      Pazo Serantellos     2010    Poor  \n",
       "85753      Rhône-style Red Blend         M. Chapoutier     2010    Good  \n",
       "116682                  Riesling               Boeckel     2015    Good  \n",
       "53184                 Pinot Noir    Domaines Devillard     2011    Good  \n",
       "12846         Cabernet Sauvignon          David Arthur     2006    Good  "
      ]
     },
     "execution_count": 2,
     "metadata": {},
     "output_type": "execute_result"
    }
   ],
   "source": [
    "# read in CSV\n",
    "clean_wines = pd.read_csv('Data/recommend_neural_model_df.csv')\n",
    "\n",
    "# sample\n",
    "clean_wines.sample(10)"
   ]
  },
  {
   "cell_type": "code",
   "execution_count": 3,
   "metadata": {
    "scrolled": true
   },
   "outputs": [
    {
     "name": "stderr",
     "output_type": "stream",
     "text": [
      "C:\\Users\\Rahil\\anaconda3\\lib\\site-packages\\ipykernel_launcher.py:10: SettingWithCopyWarning: \n",
      "A value is trying to be set on a copy of a slice from a DataFrame.\n",
      "Try using .loc[row_indexer,col_indexer] = value instead\n",
      "\n",
      "See the caveats in the documentation: https://pandas.pydata.org/pandas-docs/stable/user_guide/indexing.html#returning-a-view-versus-a-copy\n",
      "  # Remove the CWD from sys.path while we load stuff.\n",
      "C:\\Users\\Rahil\\anaconda3\\lib\\site-packages\\ipykernel_launcher.py:11: SettingWithCopyWarning: \n",
      "A value is trying to be set on a copy of a slice from a DataFrame.\n",
      "Try using .loc[row_indexer,col_indexer] = value instead\n",
      "\n",
      "See the caveats in the documentation: https://pandas.pydata.org/pandas-docs/stable/user_guide/indexing.html#returning-a-view-versus-a-copy\n",
      "  # This is added back by InteractiveShellApp.init_path()\n",
      "C:\\Users\\Rahil\\anaconda3\\lib\\site-packages\\ipykernel_launcher.py:12: SettingWithCopyWarning: \n",
      "A value is trying to be set on a copy of a slice from a DataFrame.\n",
      "Try using .loc[row_indexer,col_indexer] = value instead\n",
      "\n",
      "See the caveats in the documentation: https://pandas.pydata.org/pandas-docs/stable/user_guide/indexing.html#returning-a-view-versus-a-copy\n",
      "  if sys.path[0] == '':\n",
      "C:\\Users\\Rahil\\anaconda3\\lib\\site-packages\\ipykernel_launcher.py:13: SettingWithCopyWarning: \n",
      "A value is trying to be set on a copy of a slice from a DataFrame.\n",
      "Try using .loc[row_indexer,col_indexer] = value instead\n",
      "\n",
      "See the caveats in the documentation: https://pandas.pydata.org/pandas-docs/stable/user_guide/indexing.html#returning-a-view-versus-a-copy\n",
      "  del sys.path[0]\n"
     ]
    },
    {
     "data": {
      "text/html": [
       "<div>\n",
       "<style scoped>\n",
       "    .dataframe tbody tr th:only-of-type {\n",
       "        vertical-align: middle;\n",
       "    }\n",
       "\n",
       "    .dataframe tbody tr th {\n",
       "        vertical-align: top;\n",
       "    }\n",
       "\n",
       "    .dataframe thead th {\n",
       "        text-align: right;\n",
       "    }\n",
       "</style>\n",
       "<table border=\"1\" class=\"dataframe\">\n",
       "  <thead>\n",
       "    <tr style=\"text-align: right;\">\n",
       "      <th></th>\n",
       "      <th>country</th>\n",
       "      <th>price</th>\n",
       "      <th>province</th>\n",
       "      <th>variety</th>\n",
       "      <th>winery</th>\n",
       "      <th>vintage</th>\n",
       "    </tr>\n",
       "  </thead>\n",
       "  <tbody>\n",
       "    <tr>\n",
       "      <th>0</th>\n",
       "      <td>30</td>\n",
       "      <td>15.0</td>\n",
       "      <td>106</td>\n",
       "      <td>433</td>\n",
       "      <td>11884</td>\n",
       "      <td>2011</td>\n",
       "    </tr>\n",
       "    <tr>\n",
       "      <th>1</th>\n",
       "      <td>39</td>\n",
       "      <td>14.0</td>\n",
       "      <td>261</td>\n",
       "      <td>420</td>\n",
       "      <td>11943</td>\n",
       "      <td>2013</td>\n",
       "    </tr>\n",
       "    <tr>\n",
       "      <th>2</th>\n",
       "      <td>39</td>\n",
       "      <td>13.0</td>\n",
       "      <td>212</td>\n",
       "      <td>462</td>\n",
       "      <td>13231</td>\n",
       "      <td>2013</td>\n",
       "    </tr>\n",
       "    <tr>\n",
       "      <th>3</th>\n",
       "      <td>39</td>\n",
       "      <td>65.0</td>\n",
       "      <td>261</td>\n",
       "      <td>423</td>\n",
       "      <td>13451</td>\n",
       "      <td>2012</td>\n",
       "    </tr>\n",
       "    <tr>\n",
       "      <th>4</th>\n",
       "      <td>36</td>\n",
       "      <td>15.0</td>\n",
       "      <td>255</td>\n",
       "      <td>569</td>\n",
       "      <td>13530</td>\n",
       "      <td>2011</td>\n",
       "    </tr>\n",
       "  </tbody>\n",
       "</table>\n",
       "</div>"
      ],
      "text/plain": [
       "   country  price  province  variety  winery  vintage\n",
       "0       30   15.0       106      433   11884     2011\n",
       "1       39   14.0       261      420   11943     2013\n",
       "2       39   13.0       212      462   13231     2013\n",
       "3       39   65.0       261      423   13451     2012\n",
       "4       36   15.0       255      569   13530     2011"
      ]
     },
     "execution_count": 3,
     "metadata": {},
     "output_type": "execute_result"
    }
   ],
   "source": [
    "# LabelEncoder dependency\n",
    "from sklearn.preprocessing import LabelEncoder\n",
    "number = LabelEncoder()\n",
    "\n",
    "# create target/features\n",
    "target = clean_wines['quality']\n",
    "target_names = ['Good', 'Poor']\n",
    "\n",
    "data = clean_wines[['country','price','province','variety','winery','vintage']]\n",
    "data['country'] = number.fit_transform(data['country'].astype('str'))\n",
    "data['province'] = number.fit_transform(data['province'].astype('str'))\n",
    "data['variety'] = number.fit_transform(data['variety'].astype('str'))\n",
    "data['winery'] = number.fit_transform(data['winery'].astype('str'))\n",
    "\n",
    "feature_names = data.columns\n",
    "\n",
    "data.head()"
   ]
  },
  {
   "cell_type": "code",
   "execution_count": 4,
   "metadata": {},
   "outputs": [],
   "source": [
    "from sklearn.model_selection import train_test_split\n",
    "X_train, X_test, y_train, y_test = train_test_split(data, target, random_state=42)"
   ]
  },
  {
   "cell_type": "code",
   "execution_count": 5,
   "metadata": {},
   "outputs": [
    {
     "data": {
      "text/plain": [
       "0.7382085973625621"
      ]
     },
     "execution_count": 5,
     "metadata": {},
     "output_type": "execute_result"
    }
   ],
   "source": [
    "clf = tree.DecisionTreeClassifier()\n",
    "clf = clf.fit(X_train, y_train)\n",
    "clf.score(X_test, y_test)"
   ]
  },
  {
   "cell_type": "code",
   "execution_count": 6,
   "metadata": {},
   "outputs": [
    {
     "data": {
      "text/plain": [
       "0.7809556430895701"
      ]
     },
     "execution_count": 6,
     "metadata": {},
     "output_type": "execute_result"
    }
   ],
   "source": [
    "from sklearn.ensemble import RandomForestClassifier\n",
    "rf = RandomForestClassifier(n_estimators=200)\n",
    "rf = rf.fit(X_train, y_train)\n",
    "rf.score(X_test, y_test)"
   ]
  },
  {
   "cell_type": "code",
   "execution_count": 7,
   "metadata": {},
   "outputs": [],
   "source": [
    "# # Import tools needed for visualization\n",
    "# from sklearn.tree import export_graphviz\n",
    "# import pydot\n",
    "\n",
    "# # Pull out one tree from the forest\n",
    "# tree = rf.estimators_[0]\n",
    "\n",
    "# # Export the image to a dot file\n",
    "# export_graphviz(tree, out_file = 'tree.dot', feature_names = feature_names, rounded = True, precision = 1)"
   ]
  },
  {
   "cell_type": "code",
   "execution_count": 8,
   "metadata": {
    "scrolled": true
   },
   "outputs": [],
   "source": [
    "# Convert dot file to png\n",
    "# (graph,) = pydot.graph_from_dot_file('tree.dot')\n",
    "# graph.write_png('tree.png')"
   ]
  },
  {
   "cell_type": "code",
   "execution_count": 9,
   "metadata": {
    "scrolled": true
   },
   "outputs": [],
   "source": [
    "# create export of features dataframe\n",
    "feature_importance_df = pd.DataFrame(sorted(zip(feature_names, rf.feature_importances_), reverse=True), \\\n",
    "                                     columns = ['feature_names', 'feature_importance'])\n",
    "feature_importance_df = feature_importance_df.sort_values(by='feature_importance', ascending=False).reset_index(drop=True)\n",
    "feature_importance_df.to_csv('Data/feature_importance_random_forest_df.csv')"
   ]
  }
 ],
 "metadata": {
  "kernelspec": {
   "display_name": "Python 3",
   "language": "python",
   "name": "python3"
  },
  "language_info": {
   "codemirror_mode": {
    "name": "ipython",
    "version": 3
   },
   "file_extension": ".py",
   "mimetype": "text/x-python",
   "name": "python",
   "nbconvert_exporter": "python",
   "pygments_lexer": "ipython3",
   "version": "3.6.10"
  }
 },
 "nbformat": 4,
 "nbformat_minor": 4
}
